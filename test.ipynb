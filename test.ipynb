{
 "cells": [
  {
   "cell_type": "code",
   "execution_count": 26,
   "metadata": {},
   "outputs": [],
   "source": [
    "import hashlib\n",
    "from Cryptodome.Cipher import AES\n",
    "from Cryptodome.Util.Padding import pad\n",
    "import simplejson as json\n",
    "from decimal import Decimal\n",
    "from collections import OrderedDict\n",
    "import requests"
   ]
  },
  {
   "cell_type": "code",
   "execution_count": null,
   "metadata": {},
   "outputs": [],
   "source": [
    "EXCHANGE_SECRET = \"f430c1f3a9c9484e86c8aefc587753ee7db6735ffd77f6a48705dbdce70a755b\" # hardcoded\n",
    "STEAM_ID = \"76561198219482843\" # Steam ID"
   ]
  },
  {
   "cell_type": "code",
   "execution_count": null,
   "metadata": {},
   "outputs": [
    {
     "name": "stdout",
     "output_type": "stream",
     "text": [
      "Response status: 500\n",
      "Response content: {\n",
      "  \"error\": {\n",
      "    \"message\": \"Failed to authenticate Steam ticket\"\n",
      "  }\n",
      "}\n",
      "Cookies stored in session: {}\n"
     ]
    }
   ],
   "source": [
    "url = \"https://services.synthriders.net/api/game/auth/exchange\"\n",
    "\n",
    "# are all headers required?\n",
    "headers = {\n",
    "    \"User-Agent\": \"UnityPlayer/2019.4.40f1 (UnityWebRequest/1.0, libcurl/7.80.0-DEV)\",\n",
    "    \"Accept\": \"*/*\",\n",
    "    \"Accept-Encoding\": \"gzip, deflate, br\",\n",
    "    \"Content-Type\": \"application/x-www-form-urlencoded\",\n",
    "    \"X-Unity-Version\": \"2019.4.40f1\"\n",
    "}\n",
    "\n",
    "data = {\n",
    "    \"authType\": \"0\",\n",
    "    \"playerId\": STEAM_ID,\n",
    "    \"nonce\": \"14000000b518e25e334efc68db56730f01001001c161ea671800000001000000020000005d858eaa98901db7164c600009000000b20000003200000004000000db56730f0100100108810d00c08ff14f8d02a8c000000000f9fedf6779aefb670100d54a0400000000008b4c49f1bb999e86d775b87f7908f9e1671b6997343dda9b97e6776c74d70b98194af09766660e15d0968a6250e88e57aac59b1602ad65e73924ab206c7cc01e2b2dd33bd000e8c33c69fdd97f436248fb38b3edf90a2cd1cc867c46807b4a1daa1bd6c3b3974ef7cb3346e307a018166f2f2a516913619086248c8730cba6c5\", # get this via https://github.com/philippj/SteamworksPy\n",
    "    \"friends\": \"\",\n",
    "    \"name\": \"henrydatei\"\n",
    "}\n",
    "\n",
    "session = requests.Session()\n",
    "\n",
    "response = session.post(url, headers=headers, data=data)\n",
    "print(\"Response status:\", response.status_code)\n",
    "print(\"Response content:\", response.text)\n",
    "print(\"Cookies stored in session:\", session.cookies.get_dict())\n",
    "\n",
    "# Return should be something like\n",
    "# Set-Cookie: connect.sid=s%3A7NsufH3zRuzZzY6at1CYB7fVnBT59bC-.E%2BqVIDiIZJF%2Fab3egRk%2BmsUouVpBRycNvDjrjOS01rU; Path=/; HttpOnly\n",
    "\n",
    "# {\n",
    "#   \"id\": 411627,\n",
    "#   \"key\": \"9f9a9f741299f8ac\",\n",
    "#   \"cookie\": \"7NsufH3zRuzZzY6at1CYB7fVnBT59bC-\",\n",
    "#   \"multiplayerBanned\": 0,\n",
    "#   \"blockedList\": []\n",
    "# }\n",
    "\n",
    "AUTHENTICATION_KEY = response.json()[\"key\"]\n",
    "print(\"AUTHENTICATION_KEY:\", AUTHENTICATION_KEY)"
   ]
  },
  {
   "cell_type": "code",
   "execution_count": null,
   "metadata": {},
   "outputs": [
    {
     "name": "stdout",
     "output_type": "stream",
     "text": [
      "SALTED_KEY: 30ab335b65522cb7e056dce85bc0e509\n"
     ]
    }
   ],
   "source": [
    "salted_string = f\"{EXCHANGE_SECRET}-{AUTHENTICATION_KEY}-{STEAM_ID}-{EXCHANGE_SECRET}\"\n",
    "SALTED_KEY = hashlib.md5(salted_string.encode('utf-8')).hexdigest()\n",
    "\n",
    "print(\"SALTED_KEY:\", SALTED_KEY) # Logs: 30ab335b65522cb7e056dce85bc0e509"
   ]
  },
  {
   "cell_type": "code",
   "execution_count": null,
   "metadata": {},
   "outputs": [],
   "source": [
    "def encrypt(data: str, key: str) -> str:\n",
    "    key_bytes = key.encode('utf-8')\n",
    "    iv_bytes = key[:16].upper().encode('utf-8')\n",
    "    cipher = AES.new(key_bytes, AES.MODE_CBC, iv_bytes)\n",
    "    data_bytes = data.encode('utf-8')\n",
    "    padded_data = pad(data_bytes, AES.block_size, style='pkcs7')\n",
    "    encrypted_bytes = cipher.encrypt(padded_data)\n",
    "    return encrypted_bytes.hex().upper()"
   ]
  },
  {
   "cell_type": "code",
   "execution_count": null,
   "metadata": {},
   "outputs": [
    {
     "name": "stdout",
     "output_type": "stream",
     "text": [
      "JSON text:\n",
      "{\"leaderboardInfo\":{\"songHash\":\"d652be1a31c549d06fa15c11c9b793c193c5c2c6094192e4c41418878b5c99a9\",\"songName\":\"Watch Your Tongue\",\"songSubName\":\"\",\"songAuthorName\":\"PiSk, Little Violet\",\"levelAuthorName\":\"\",\"bpm\":0,\"difficulty\":4,\"mode\":0,\"maxScore\":0,\"maxCombo\":601,\"challenge\":0},\"scoreInfo\":{\"baseScore\":1383210,\"notesHit\":595,\"modifiers\":0,\"goodHitPercent\":0.55574041604995728,\"poorHitPercent\":0.21963393688201904,\"perfectHitPercent\":0.21464225649833679,\"punchIntensityAvg\":0.0,\"maxCombo\":171,\"hmd\":8}}\n",
      "\n",
      "Encrypted Data:\n",
      "7399E1F499538AD319707CD313DBBF3D6C8C17F1215546F688F4DBC56DAF7DB7BC75C6D346DA1350852554AF22E2705FBF4336759A7F5304140E9E37670E159E69FEF889E3BA603467B9290FC5B588D188B79C1E92926F77009A45F243D7879615D6F189B8FF6DC4CEB52F3F64C77559F527CE25706D4B3A0BAB68A8CE8D654C1368C2BE8DDA9ED03C154B35B86AD5550CCA5DDB1D28FCF99C1DA46E12C3BD6E7E0F0995E0EB69831577B5B8AD3138B204B6E0A3466892B49AAFE3EC6A9B3C475734ADF29EDCCB225E4D9C9BC2577730086565A6FC2FDC05D51DE7D238702AA59EAF7B54296181A0B7D75A35DFEF4563427C819AAA68001B79CFA429A497CDAD9EDD7456E70450D26206F57CCF7570B141B87C9CF643F6D684E2599745104288D4D100847B6094426954F93E3486AC6EA082C5055A61DAE191DF182AD03F6EF24E99CEA511CC49B926231573F3CF37037822901D01711A9CAF4DDA9425FD657DF02555F70A682E61EF86853D03C9573ABFE8EC8F9E739523CDC8AD66FD3434BFA741FBB84819A7175DDF33791D24865A5D832487551398D03530050A3E572337A53C22F395B7C16DD9CEFA03B91988B7CE4B3F40CB33434E761FAC49980C782B54D498CC6FDCD24CAE9C42F0F78824B049A52D5875ADAF17EE833D404E631656AF275CB7DFC31516AF804307938B0E20D455E929D2CB02A2A89C9F7B38EC9B98\n"
     ]
    }
   ],
   "source": [
    "data_dict = OrderedDict([\n",
    "    (\"leaderboardInfo\", OrderedDict([\n",
    "        (\"songHash\", \"d652be1a31c549d06fa15c11c9b793c193c5c2c6094192e4c41418878b5c99a9\"),\n",
    "        (\"songName\", \"Watch Your Tongue\"),\n",
    "        (\"songSubName\", \"\"),\n",
    "        (\"songAuthorName\", \"PiSk, Little Violet\"),\n",
    "        (\"levelAuthorName\", \"\"),\n",
    "        (\"bpm\", 0),\n",
    "        (\"difficulty\", 4),\n",
    "        (\"mode\", 0),\n",
    "        (\"maxScore\", 0),\n",
    "        (\"maxCombo\", 601),\n",
    "        (\"challenge\", 0)\n",
    "    ])),\n",
    "    (\"scoreInfo\", OrderedDict([\n",
    "        (\"baseScore\", 1383210),\n",
    "        (\"notesHit\", 595),\n",
    "        (\"modifiers\", 0),\n",
    "        # Use Decimal with the exact string value to force precise formatting.\n",
    "        (\"goodHitPercent\", Decimal(\"0.55574041604995728\")),\n",
    "        (\"poorHitPercent\", Decimal(\"0.21963393688201904\")),\n",
    "        (\"perfectHitPercent\", Decimal(\"0.21464225649833679\")),\n",
    "        # For 0.0 you can use Decimal as well if needed.\n",
    "        (\"punchIntensityAvg\", Decimal(\"0.0\")),\n",
    "        (\"maxCombo\", 171),\n",
    "        (\"hmd\", 8)\n",
    "    ]))\n",
    "])\n",
    "\n",
    "json_text = json.dumps(data_dict, separators=(',',':'), use_decimal=True)\n",
    "print(\"JSON text:\")\n",
    "print(json_text)\n",
    "\n",
    "encrypted_data = encrypt(json_text, SALTED_KEY)\n",
    "print(\"\\nEncrypted Data:\")\n",
    "print(encrypted_data) # Logs: 7399E1F499538AD319707CD313DBBF3D6C8C17F1215546F688F4DBC56DAF7DB7BC75C6D346DA1350852554AF22E2705FBF4336759A7F5304140E9E37670E159E69FEF889E3BA603467B9290FC5B588D188B79C1E92926F77009A45F243D7879615D6F189B8FF6DC4CEB52F3F64C77559F527CE25706D4B3A0BAB68A8CE8D654C1368C2BE8DDA9ED03C154B35B86AD5550CCA5DDB1D28FCF99C1DA46E12C3BD6E7E0F0995E0EB69831577B5B8AD3138B204B6E0A3466892B49AAFE3EC6A9B3C475734ADF29EDCCB225E4D9C9BC2577730086565A6FC2FDC05D51DE7D238702AA59EAF7B54296181A0B7D75A35DFEF4563427C819AAA68001B79CFA429A497CDAD9EDD7456E70450D26206F57CCF7570B141B87C9CF643F6D684E2599745104288D4D100847B6094426954F93E3486AC6EA082C5055A61DAE191DF182AD03F6EF24E99CEA511CC49B926231573F3CF37037822901D01711A9CAF4DDA9425FD657DF02555F70A682E61EF86853D03C9573ABFE8EC8F9E739523CDC8AD66FD3434BFA741FBB84819A7175DDF33791D24865A5D832487551398D03530050A3E572337A53C22F395B7C16DD9CEFA03B91988B7CE4B3F40CB33434E761FAC49980C782B54D498CC6FDCD24CAE9C42F0F78824B049A52D5875ADAF17EE833D404E631656AF275CB7DFC31516AF804307938B0E20D455E929D2CB02A2A89C9F7B38EC9B98"
   ]
  },
  {
   "cell_type": "code",
   "execution_count": null,
   "metadata": {},
   "outputs": [],
   "source": [
    "upload_url = \"https://services.synthriders.net/api/game/upload\"\n",
    "\n",
    "# are all headers required?\n",
    "headers = {\n",
    "    \"User-Agent\": \"UnityPlayer/2019.4.40f1 (UnityWebRequest/1.0, libcurl/7.80.0-DEV)\",\n",
    "    \"Accept\": \"*/*\",\n",
    "    \"Accept-Encoding\": \"gzip, deflate, br\",\n",
    "    \"Content-Type\": \"application/x-www-form-urlencoded\",\n",
    "    \"X-Unity-Version\": \"2019.4.40f1\"\n",
    "}\n",
    "form_data = {\n",
    "    \"data\": encrypted_data\n",
    "}\n",
    "\n",
    "response = session.post(upload_url, headers=headers, data=form_data)\n",
    "print(\"Upload status code:\", response.status_code)\n",
    "print(\"Upload response content:\", response.text)"
   ]
  }
 ],
 "metadata": {
  "kernelspec": {
   "display_name": ".venv",
   "language": "python",
   "name": "python3"
  },
  "language_info": {
   "codemirror_mode": {
    "name": "ipython",
    "version": 3
   },
   "file_extension": ".py",
   "mimetype": "text/x-python",
   "name": "python",
   "nbconvert_exporter": "python",
   "pygments_lexer": "ipython3",
   "version": "3.12.3"
  }
 },
 "nbformat": 4,
 "nbformat_minor": 2
}
